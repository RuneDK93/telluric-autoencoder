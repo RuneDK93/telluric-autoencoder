{
 "cells": [
  {
   "cell_type": "markdown",
   "metadata": {},
   "source": [
    "## Description"
   ]
  },
  {
   "cell_type": "markdown",
   "metadata": {},
   "source": [
    "This notebook is for preprocessing the solar observations from HARPS-N with the ESPRESSO pipeline to make them ready for input to the autoencoder network. These solar observations can be found at https://dace.unige.ch/dashboard/.\n",
    "\n",
    "For details on this data format see: https://ftp.eso.org/pub/dfs/pipelines/espresso/espdr-pipeline-manual-3.0.0.pdf\n",
    "\n",
    "The notebook performs the following preprocessing steps. \n",
    " 1. Load Data\n",
    " 2. Filter out low flux and very high airmass observations \n",
    " 3. Interpolate all observations to common wavelength grid \n",
    " 4. Take natural logarithm and continuum normalise all observations\n",
    "\n",
    "The notebook is set up to perform preprocessing of observations in the format of HARPS-N 2D solar observations at https://dace.unige.ch/dashboard/. If one whises to train on solar spectra from another spectrograph this notebook will not work. You can either modify this notebook to the data format of the spectrograph or carry out your own preprocessing. The important part is to obtain blaze corrected continuum normalised log spectra interpolated to the same wavelength axis."
   ]
  },
  {
   "cell_type": "markdown",
   "metadata": {},
   "source": [
    "## Load Data"
   ]
  },
  {
   "cell_type": "code",
   "execution_count": 1,
   "metadata": {},
   "outputs": [
    {
     "name": "stdout",
     "output_type": "stream",
     "text": [
      "Loading...\n",
      "Done Loading\n",
      "Flux Dimension: [n_obs,n_order,n_pixel] (2, 69, 4096)\n"
     ]
    },
    {
     "data": {
      "image/png": "[encoded data removed]",
      "text/plain": [
       "<Figure size 432x288 with 1 Axes>"
      ]
     },
     "metadata": {
      "needs_background": "light"
     },
     "output_type": "display_data"
    }
   ],
   "source": [
    "import os\n",
    "import numpy as np\n",
    "from astropy.io import fits\n",
    "import matplotlib.pyplot as plt\n",
    "import time\n",
    "from scipy import interpolate\n",
    "import math\n",
    "from spectrum_overload import Spectrum\n",
    "%matplotlib inline\n",
    "\n",
    "print('Loading...')\n",
    "\n",
    "## Initializing Arrays\n",
    "flux_obs_load  = []\n",
    "wave_obs_load  = []\n",
    "blaze_obs_load = []\n",
    "bary_obs_load = []\n",
    "file_name = []\n",
    "wave_name = []\n",
    "blaze_name = []\n",
    "airmass = []\n",
    "\n",
    "for path, sub, files in os.walk('../Solar_Spectra/data'):\n",
    "    for name in files:\n",
    "        if name.endswith(\"S2D_A.fits\"):\n",
    "            fn = path+'/'+name\n",
    "            flux = fits.getdata(fn,1) # flux corrected from blaze\n",
    "            wave = fits.getdata(fn,5)  # wavelength solution in the air\n",
    "            header = fits.getheader(fn)\n",
    "            bary = header['HIERARCH TNG QC BERV']\n",
    "            airmass.append(header['AIRMASS'])\n",
    "            flux_obs_load.append(flux)\n",
    "            wave_obs_load.append(wave)\n",
    "            bary_obs_load.append(bary)\n",
    "            file_name.append(fn)\n",
    "\n",
    "Airmass = np.asarray(airmass)            \n",
    "Berv = np.asarray(bary_obs_load)\n",
    "flux_obs_load = np.asarray(flux_obs_load)\n",
    "wave_obs_load = np.asarray(wave_obs_load)\n",
    "\n",
    "\n",
    "# Wavelengths have been moved to the Solar System barycenter, but we need them in observer rest frame\n",
    "# Using BERV to get to observer rest frame\n",
    "# Light speed in km/s\n",
    "c = 299792.458\n",
    "v=-Berv\n",
    "for i in range(len(v)):\n",
    "    wave_obs_load[i] = wave_obs_load[i] * (1.0 + v[i] / c)    \n",
    "print('Done Loading')\n",
    "print('Flux Dimension: [n_obs,n_order,n_pixel]',flux_obs_load.shape)\n",
    "Data = np.array([flux_obs_load,wave_obs_load]) # Collecting flux and wavelength into same array. Data[0] is flux. \n",
    "\n",
    "# Plotting a raw observation\n",
    "obs_id = 0\n",
    "order = 53\n",
    "plt.plot(Data[1,obs_id,order],Data[0,obs_id,order])\n",
    "plt.xlabel('Wavelength');\n",
    "plt.ylabel('Flux');"
   ]
  },
  {
   "cell_type": "markdown",
   "metadata": {},
   "source": [
    "### Filtering Observations"
   ]
  },
  {
   "cell_type": "code",
   "execution_count": 2,
   "metadata": {},
   "outputs": [],
   "source": [
    "# Filtering away observation with airmass > 2.0\n",
    "index1 = []\n",
    "for i in range(len(Airmass)):\n",
    "    if  Airmass[i]  > 2: \n",
    "        index1.append(i)          \n",
    "\n",
    "# Filtering the observations from index out \n",
    "if len(index1)>0:\n",
    "    Data = np.delete(Data, index1 ,axis=1)\n",
    "    Airmass = np.delete(Airmass,index1,axis=0)\n",
    "    Berv = np.delete(Berv,index1,axis=0)\n",
    "    print('Number of removed spectra for high airmass:',len(index1))\n",
    "\n",
    "# Finding mean flux of spectra\n",
    "means = np.zeros(len(Data[0]))\n",
    "for i in range(len(Data[0])):\n",
    "    means[i] = np.mean(Data[0,i,:])\n",
    "    \n",
    "#Some of the observations may have very low flux values. \n",
    "# Finding index of low flux observations\n",
    "index2 = []\n",
    "for i in range(len(Data[0])):\n",
    "    if  np.max(means) / np.mean(Data[0,i,:])  > 1.2: \n",
    "        index2.append(i)       \n",
    "\n",
    "# Filtering the low flux observations from index out \n",
    "if len(index2)>0:\n",
    "    filtered_Data = np.delete(Data, index2 ,axis=1)\n",
    "    Airmass = np.delete(Airmass,index2,axis=0)\n",
    "    Berv = np.delete(Berv,index2,axis=0)\n",
    "    print('Number of removed spectra for low flux:',len(index2)) \n",
    "    \n",
    "if len(index2)==0:\n",
    "    filtered_Data=Data\n",
    "\n",
    "D = filtered_Data.transpose(1,2,0,3) # Transposing data array to have observations as first index\n",
    "\n",
    "# Finding mean flux of spectra and saving for later scaling \n",
    "means = np.zeros(len(D))\n",
    "for i in range(len(D)):\n",
    "    means[i] = np.mean(D[i,:])\n",
    "const = np.log(np.mean(means))"
   ]
  },
  {
   "cell_type": "markdown",
   "metadata": {},
   "source": [
    "### Interpolating to common wavelength axis and continuum normalizing spectra"
   ]
  },
  {
   "cell_type": "code",
   "execution_count": 3,
   "metadata": {},
   "outputs": [],
   "source": [
    "K = D.shape[1]       # number of apertures to combine (here 69)\n",
    "resolution = D.shape[3] # number of pixels (here 4096)\n",
    "\n",
    "combined_wave = np.zeros((K,resolution))\n",
    "combined_flux = np.zeros((K,D.shape[0],resolution))\n",
    "for k in range(K):\n",
    "\n",
    "    # Interpolating to common restframe grid of wavepoints \n",
    "    aperture = k\n",
    "\n",
    "    # Finding min and max for interpolation. \n",
    "    # This is needed as the observations do not cover the exact same wavelength regions\n",
    "    MIN =  math.ceil(np.min(D[:,aperture,1,0]))   # Wave min\n",
    "    MAX =  math.floor(np.max(D[:,aperture,1,-1])) # Wave max\n",
    "\n",
    "    common_wave = np.linspace(MIN, MAX, num=resolution) \n",
    "    interpol_flux = []\n",
    "\n",
    "    for i in range(len(D)):\n",
    "        flux = D[i,aperture,0,:]  \n",
    "        wave = D[i,aperture,1,:]\n",
    "        f = interpolate.interp1d(wave, flux)\n",
    "\n",
    "        int_flux = f(common_wave)   # use interpolation function returned by `interp1d`\n",
    "        interpol_flux.append(int_flux)\n",
    "    interpol_flux = np.array(interpol_flux)\n",
    "    val_save = interpol_flux   \n",
    "    \n",
    "    # Continuum normalisation\n",
    "    # Can be performed with your own choice of continuum normalization procedure\n",
    "    # Here using spectrum_overload package\n",
    "    interpol_flux=np.log(interpol_flux) # taking log of spectrum \n",
    "    normalized_flux = np.zeros((len(interpol_flux),len(interpol_flux[0])))\n",
    "    for j in range(len(interpol_flux)):\n",
    "        s = Spectrum(flux=interpol_flux[j], xaxis=common_wave)\n",
    "        continuum = s.continuum(method=\"linear\", nbins=10, ntop=5) # Optimal continuum normalisaton params can depend on spectrum size\n",
    "        normalized_flux[j] = interpol_flux[j]/continuum.flux\n",
    "    interpol_flux=normalized_flux\n",
    "    \n",
    "    # Combining the wave function and flux of each aperture\n",
    "    combined_wave[k] = common_wave\n",
    "    combined_flux[k] = interpol_flux\n",
    "    \n",
    "Preproc_wave=combined_wave\n",
    "Preproc_flux=combined_flux.transpose(1,0,2)\n",
    "Preproc_airmass = Airmass\n",
    "Preproc_berv = Berv"
   ]
  },
  {
   "cell_type": "code",
   "execution_count": 4,
   "metadata": {},
   "outputs": [
    {
     "data": {
      "image/png": "[encoded data removed]",
      "text/plain": [
       "<Figure size 432x288 with 1 Axes>"
      ]
     },
     "metadata": {
      "needs_background": "light"
     },
     "output_type": "display_data"
    }
   ],
   "source": [
    "# Plotting a preprocessed observation\n",
    "obs_id = 0\n",
    "order = 53\n",
    "plt.plot(Preproc_wave[order],Preproc_flux[obs_id,order])\n",
    "plt.xlabel('Wavelength');\n",
    "plt.ylabel('Normalized Log Flux');"
   ]
  },
  {
   "cell_type": "markdown",
   "metadata": {},
   "source": [
    "### Saving Preproc Data"
   ]
  },
  {
   "cell_type": "code",
   "execution_count": 5,
   "metadata": {},
   "outputs": [],
   "source": [
    "# Save file\n",
    "#output = open('../preproc/preproc_wave.pkl', 'wb')\n",
    "#pickle.dump(preproc_wave, output)\n",
    "#output.close()\n",
    "\n",
    "#output = open('../preproc/preproc_flux.pkl', 'wb')\n",
    "#pickle.dump(Preproc_flux, output)\n",
    "#output.close()\n",
    "\n",
    "#output = open('../preproc/preproc_airmass.pkl', 'wb')\n",
    "#pickle.dump(preproc_airmass, output)\n",
    "#output.close()\n",
    "\n",
    "#output = open('../preproc/preproc_berv.pkl', 'wb')\n",
    "#pickle.dump(preproc_berv, output)\n",
    "#output.close()\n",
    "\n",
    "#output = open('../preproc/preproc_const.pkl', 'wb')\n",
    "#pickle.dump(const, output)\n",
    "#output.close()"
   ]
  },
  {
   "cell_type": "code",
   "execution_count": null,
   "metadata": {},
   "outputs": [],
   "source": []
  }
 ],
 "metadata": {
  "kernelspec": {
   "display_name": "Python 3",
   "language": "python",
   "name": "python3"
  },
  "language_info": {
   "codemirror_mode": {
    "name": "ipython",
    "version": 3
   },
   "file_extension": ".py",
   "mimetype": "text/x-python",
   "name": "python",
   "nbconvert_exporter": "python",
   "pygments_lexer": "ipython3",
   "version": "3.8.2"
  }
 },
 "nbformat": 4,
 "nbformat_minor": 4
}
